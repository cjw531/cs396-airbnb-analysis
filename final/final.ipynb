{
 "cells": [
  {
   "cell_type": "markdown",
   "metadata": {},
   "source": [
    "# Lanugage Processing"
   ]
  },
  {
   "cell_type": "code",
   "execution_count": 9,
   "metadata": {},
   "outputs": [],
   "source": [
    "import pandas as pd\n",
    "import matplotlib.pyplot as plt\n",
    "import seaborn as sns\n",
    "from textblob import TextBlob\n",
    "from polyglot.detect import Detector\n",
    "from polyglot.detect.base import logger as polyglot_logger\n",
    "polyglot_logger.setLevel(\"ERROR\")\n",
    "import warnings\n",
    "warnings.filterwarnings('ignore')\n",
    "from utils import *\n",
    "data_path = \"../data/\""
   ]
  },
  {
   "cell_type": "markdown",
   "metadata": {},
   "source": [
    "## 1. Sentiment Analysis"
   ]
  },
  {
   "cell_type": "markdown",
   "metadata": {},
   "source": [
    "### 1-0. Join Dataframes"
   ]
  },
  {
   "cell_type": "code",
   "execution_count": 2,
   "metadata": {},
   "outputs": [
    {
     "name": "stdout",
     "output_type": "stream",
     "text": [
      "Total Sample: 848725\n",
      "     id  price host_is_superhost  \\\n",
      "0  2595  150.0                 f   \n",
      "1  2595  150.0                 f   \n",
      "2  2595  150.0                 f   \n",
      "3  2595  150.0                 f   \n",
      "4  2595  150.0                 f   \n",
      "\n",
      "                                            comments  \n",
      "0  Notre séjour de trois nuits.\\nNous avons appré...  \n",
      "1                                  Great experience.  \n",
      "2  I've stayed with my friend at the Midtown Cast...  \n",
      "3  We've been staying here for about 9 nights, en...  \n",
      "4  We had a wonderful stay at Jennifer's charming...  \n"
     ]
    }
   ],
   "source": [
    "# join the df with the price & superhost\n",
    "list_df = pd.read_csv(data_path + \"listings_detail.csv\")\n",
    "list_df = list_df[['id', 'price', 'host_is_superhost']]\n",
    "review_df = pd.read_csv(data_path + \"reviews_detail.csv\")\n",
    "review_df = review_df[['listing_id', 'comments']]\n",
    "review_df.rename(columns={'listing_id':'id'}, inplace=True)\n",
    "join_df = list_df.merge(review_df) # join listings and the review comments\n",
    "print(\"Total Sample:\", len(join_df))\n",
    "print(join_df.head())"
   ]
  },
  {
   "cell_type": "markdown",
   "metadata": {},
   "source": [
    "### 1-1. English Reviews"
   ]
  },
  {
   "cell_type": "code",
   "execution_count": 3,
   "metadata": {},
   "outputs": [
    {
     "name": "stdout",
     "output_type": "stream",
     "text": [
      "Total English Reviews: 769558\n"
     ]
    }
   ],
   "source": [
    "comments = join_df[\"comments\"]\n",
    "eng_comments = [] # store the english reviews only\n",
    "for c in comments:\n",
    "    if type(c) is float: continue\n",
    "    if (\"<br>\" in c): c.replace(\"<br>\", \"\")\n",
    "    try:\n",
    "        c.encode('utf-8')\n",
    "        lang = Detector(c, quiet=True)\n",
    "        if (lang.language.name == \"English\") and (isinstance(c, str)): # also remove invalid data (non-string)\n",
    "            eng_comments.append(c.encode('utf8'))\n",
    "    except: continue \n",
    "\n",
    "print (\"Total English Reviews:\", len(eng_comments))"
   ]
  },
  {
   "cell_type": "markdown",
   "metadata": {},
   "source": [
    "### 1-2. Sentiment Analysis for SuperHost vs Host"
   ]
  },
  {
   "cell_type": "code",
   "execution_count": 4,
   "metadata": {},
   "outputs": [
    {
     "name": "stdout",
     "output_type": "stream",
     "text": [
      "     id  price host_is_superhost  \\\n",
      "0  2595  150.0                 f   \n",
      "1  2595  150.0                 f   \n",
      "2  2595  150.0                 f   \n",
      "3  2595  150.0                 f   \n",
      "4  2595  150.0                 f   \n",
      "\n",
      "                                            comments  sentiment  \n",
      "0  Notre séjour de trois nuits.\\nNous avons appré...   0.000000  \n",
      "1                                  Great experience.   0.800000  \n",
      "2  I've stayed with my friend at the Midtown Cast...   0.410124  \n",
      "3  We've been staying here for about 9 nights, en...   0.266875  \n",
      "4  We had a wonderful stay at Jennifer's charming...   0.518750  \n"
     ]
    }
   ],
   "source": [
    "join_df['sentiment'] = join_df['comments'].apply(sentiment_calc)\n",
    "join_df = join_df[join_df['sentiment'] != None] # drop 'None' lists (failed to get sentiments)\n",
    "print(join_df.head())"
   ]
  },
  {
   "cell_type": "code",
   "execution_count": 15,
   "metadata": {},
   "outputs": [
    {
     "data": {
      "text/plain": [
       "[[Text(0, 0.0, '0'), Text(0, 2.0, '1'), Text(0, 4.0, '2'), Text(0, 6.0, '3')]]"
      ]
     },
     "execution_count": 15,
     "metadata": {},
     "output_type": "execute_result"
    },
    {
     "data": {
      "image/png": "[encoded data removed]",
      "text/plain": [
       "<Figure size 432x288 with 2 Axes>"
      ]
     },
     "metadata": {
      "needs_background": "light"
     },
     "output_type": "display_data"
    }
   ],
   "source": [
    "superhost_df = join_df[join_df['host_is_superhost'] == 't'] # get superhost df\n",
    "host_df = join_df[join_df['host_is_superhost'] == 'f'] # get host df\n",
    "# plt.hist([superhost_df['sentiment'], host_df['sentiment']], bins = 200, range=[-1.0, 1.0], alpha=0.5, label=['x', 'y'])\n",
    "\n",
    "fig, (ax1, ax2) = plt.subplots(2)\n",
    "fig.suptitle('Sentiment Analysis Distribution for SupherHost vs. Host')\n",
    "p = sns.distplot(superhost_df['sentiment'], kde=True, bins=100, hist=True, ax=ax1)\n",
    "p = sns.distplot(host_df['sentiment'], kde=True, bins=100, hist=True, ax=ax2)\n",
    "p.set(yticklabels=[0,1,2,3,4,5])"
   ]
  },
  {
   "cell_type": "markdown",
   "metadata": {},
   "source": [
    "### 1-3. Sentiment Analysis for Price Bin"
   ]
  },
  {
   "cell_type": "code",
   "execution_count": null,
   "metadata": {},
   "outputs": [],
   "source": []
  }
 ],
 "metadata": {
  "interpreter": {
   "hash": "d17759850dd4acc5e5a9be5fd542d1486f7f95e812f1abc4d20f5e5e6e519945"
  },
  "kernelspec": {
   "display_name": "Python 3.8.12 64-bit ('cs396': conda)",
   "language": "python",
   "name": "python3"
  },
  "language_info": {
   "codemirror_mode": {
    "name": "ipython",
    "version": 3
   },
   "file_extension": ".py",
   "mimetype": "text/x-python",
   "name": "python",
   "nbconvert_exporter": "python",
   "pygments_lexer": "ipython3",
   "version": "3.9.7"
  },
  "orig_nbformat": 4
 },
 "nbformat": 4,
 "nbformat_minor": 2
}
