{
 "cells": [
  {
   "cell_type": "markdown",
   "metadata": {},
   "source": [
    "# Initial Milestone"
   ]
  },
  {
   "cell_type": "code",
   "execution_count": 1,
   "metadata": {},
   "outputs": [],
   "source": [
    "import pandas as pd\n",
    "from polyglot.detect import Detector\n",
    "from polyglot.detect.base import logger as polyglot_logger\n",
    "polyglot_logger.setLevel(\"ERROR\")\n",
    "import matplotlib.pyplot as plt\n",
    "data_path = \"./data/\""
   ]
  },
  {
   "cell_type": "markdown",
   "metadata": {},
   "source": [
    "## 1. About Dataset"
   ]
  },
  {
   "cell_type": "markdown",
   "metadata": {},
   "source": [
    "### 1-1. Listing Data"
   ]
  },
  {
   "cell_type": "code",
   "execution_count": 6,
   "metadata": {},
   "outputs": [
    {
     "name": "stdout",
     "output_type": "stream",
     "text": [
      "Data: listings_detail.csv\n",
      "<class 'pandas.core.frame.DataFrame'>\n",
      "RangeIndex: 36923 entries, 0 to 36922\n",
      "Data columns (total 74 columns):\n",
      " #   Column                                        Non-Null Count  Dtype  \n",
      "---  ------                                        --------------  -----  \n",
      " 0   id                                            36923 non-null  int64  \n",
      " 1   listing_url                                   36923 non-null  object \n",
      " 2   scrape_id                                     36923 non-null  int64  \n",
      " 3   last_scraped                                  36923 non-null  object \n",
      " 4   name                                          36910 non-null  object \n",
      " 5   description                                   35710 non-null  object \n",
      " 6   neighborhood_overview                         22510 non-null  object \n",
      " 7   picture_url                                   36923 non-null  object \n",
      " 8   host_id                                       36923 non-null  int64  \n",
      " 9   host_url                                      36923 non-null  object \n",
      " 10  host_name                                     36812 non-null  object \n",
      " 11  host_since                                    36812 non-null  object \n",
      " 12  host_location                                 36714 non-null  object \n",
      " 13  host_about                                    21636 non-null  object \n",
      " 14  host_response_time                            21180 non-null  object \n",
      " 15  host_response_rate                            21180 non-null  object \n",
      " 16  host_acceptance_rate                          21821 non-null  object \n",
      " 17  host_is_superhost                             36812 non-null  object \n",
      " 18  host_thumbnail_url                            36812 non-null  object \n",
      " 19  host_picture_url                              36812 non-null  object \n",
      " 20  host_neighbourhood                            29726 non-null  object \n",
      " 21  host_listings_count                           36812 non-null  float64\n",
      " 22  host_total_listings_count                     36812 non-null  float64\n",
      " 23  host_verifications                            36923 non-null  object \n",
      " 24  host_has_profile_pic                          36812 non-null  object \n",
      " 25  host_identity_verified                        36812 non-null  object \n",
      " 26  neighbourhood                                 22511 non-null  object \n",
      " 27  neighbourhood_cleansed                        36923 non-null  object \n",
      " 28  neighbourhood_group_cleansed                  36923 non-null  object \n",
      " 29  latitude                                      36923 non-null  float64\n",
      " 30  longitude                                     36923 non-null  float64\n",
      " 31  property_type                                 36923 non-null  object \n",
      " 32  room_type                                     36923 non-null  object \n",
      " 33  accommodates                                  36923 non-null  int64  \n",
      " 34  bathrooms                                     0 non-null      float64\n",
      " 35  bathrooms_text                                36818 non-null  object \n",
      " 36  bedrooms                                      32987 non-null  float64\n",
      " 37  beds                                          36312 non-null  float64\n",
      " 38  amenities                                     36923 non-null  object \n",
      " 39  price                                         36923 non-null  object \n",
      " 40  minimum_nights                                36923 non-null  int64  \n",
      " 41  maximum_nights                                36923 non-null  int64  \n",
      " 42  minimum_minimum_nights                        36906 non-null  float64\n",
      " 43  maximum_minimum_nights                        36906 non-null  float64\n",
      " 44  minimum_maximum_nights                        36906 non-null  float64\n",
      " 45  maximum_maximum_nights                        36906 non-null  float64\n",
      " 46  minimum_nights_avg_ntm                        36906 non-null  float64\n",
      " 47  maximum_nights_avg_ntm                        36906 non-null  float64\n",
      " 48  calendar_updated                              0 non-null      float64\n",
      " 49  has_availability                              36923 non-null  object \n",
      " 50  availability_30                               36923 non-null  int64  \n",
      " 51  availability_60                               36923 non-null  int64  \n",
      " 52  availability_90                               36923 non-null  int64  \n",
      " 53  availability_365                              36923 non-null  int64  \n",
      " 54  calendar_last_scraped                         36923 non-null  object \n",
      " 55  number_of_reviews                             36923 non-null  int64  \n",
      " 56  number_of_reviews_ltm                         36923 non-null  int64  \n",
      " 57  number_of_reviews_l30d                        36923 non-null  int64  \n",
      " 58  first_review                                  27627 non-null  object \n",
      " 59  last_review                                   27627 non-null  object \n",
      " 60  review_scores_rating                          27627 non-null  float64\n",
      " 61  review_scores_accuracy                        26998 non-null  float64\n",
      " 62  review_scores_cleanliness                     27009 non-null  float64\n",
      " 63  review_scores_checkin                         26991 non-null  float64\n",
      " 64  review_scores_communication                   27002 non-null  float64\n",
      " 65  review_scores_location                        26987 non-null  float64\n",
      " 66  review_scores_value                           26987 non-null  float64\n",
      " 67  license                                       0 non-null      float64\n",
      " 68  instant_bookable                              36923 non-null  object \n",
      " 69  calculated_host_listings_count                36923 non-null  int64  \n",
      " 70  calculated_host_listings_count_entire_homes   36923 non-null  int64  \n",
      " 71  calculated_host_listings_count_private_rooms  36923 non-null  int64  \n",
      " 72  calculated_host_listings_count_shared_rooms   36923 non-null  int64  \n",
      " 73  reviews_per_month                             27627 non-null  float64\n",
      "dtypes: float64(23), int64(17), object(34)\n",
      "memory usage: 20.8+ MB\n"
     ]
    }
   ],
   "source": [
    "df = pd.read_csv(data_path + \"listings.csv\") \n",
    "pd.set_option('display.max_columns', None) \n",
    "print(\"Data: listings_detail.csv\")\n",
    "df.info()"
   ]
  },
  {
   "cell_type": "code",
   "execution_count": 7,
   "metadata": {},
   "outputs": [
    {
     "name": "stdout",
     "output_type": "stream",
     "text": [
      "Data: listings_summary.csv\n",
      "<class 'pandas.core.frame.DataFrame'>\n",
      "RangeIndex: 36923 entries, 0 to 36922\n",
      "Data columns (total 18 columns):\n",
      " #   Column                          Non-Null Count  Dtype  \n",
      "---  ------                          --------------  -----  \n",
      " 0   id                              36923 non-null  int64  \n",
      " 1   name                            36910 non-null  object \n",
      " 2   host_id                         36923 non-null  int64  \n",
      " 3   host_name                       36812 non-null  object \n",
      " 4   neighbourhood_group             36923 non-null  object \n",
      " 5   neighbourhood                   36923 non-null  object \n",
      " 6   latitude                        36923 non-null  float64\n",
      " 7   longitude                       36923 non-null  float64\n",
      " 8   room_type                       36923 non-null  object \n",
      " 9   price                           36923 non-null  int64  \n",
      " 10  minimum_nights                  36923 non-null  int64  \n",
      " 11  number_of_reviews               36923 non-null  int64  \n",
      " 12  last_review                     27627 non-null  object \n",
      " 13  reviews_per_month               27627 non-null  float64\n",
      " 14  calculated_host_listings_count  36923 non-null  int64  \n",
      " 15  availability_365                36923 non-null  int64  \n",
      " 16  number_of_reviews_ltm           36923 non-null  int64  \n",
      " 17  license                         0 non-null      float64\n",
      "dtypes: float64(4), int64(8), object(6)\n",
      "memory usage: 5.1+ MB\n"
     ]
    }
   ],
   "source": [
    "df = pd.read_csv(data_path + \"listings_summary.csv\") \n",
    "print(\"Data: listings_summary.csv\")\n",
    "df.info()"
   ]
  },
  {
   "cell_type": "markdown",
   "metadata": {},
   "source": [
    "### 1-2. Review Data"
   ]
  },
  {
   "cell_type": "code",
   "execution_count": 8,
   "metadata": {},
   "outputs": [
    {
     "name": "stdout",
     "output_type": "stream",
     "text": [
      "Data: reviews_detail.csv\n",
      "<class 'pandas.core.frame.DataFrame'>\n",
      "RangeIndex: 848725 entries, 0 to 848724\n",
      "Data columns (total 6 columns):\n",
      " #   Column         Non-Null Count   Dtype \n",
      "---  ------         --------------   ----- \n",
      " 0   listing_id     848725 non-null  int64 \n",
      " 1   id             848725 non-null  int64 \n",
      " 2   date           848725 non-null  object\n",
      " 3   reviewer_id    848725 non-null  int64 \n",
      " 4   reviewer_name  848719 non-null  object\n",
      " 5   comments       847901 non-null  object\n",
      "dtypes: int64(3), object(3)\n",
      "memory usage: 38.9+ MB\n"
     ]
    }
   ],
   "source": [
    "df = pd.read_csv(data_path + \"reviews.csv\") \n",
    "pd.set_option('display.max_columns', None) \n",
    "print(\"Data: reviews_detail.csv\")\n",
    "df.info()"
   ]
  },
  {
   "cell_type": "code",
   "execution_count": 9,
   "metadata": {},
   "outputs": [
    {
     "name": "stdout",
     "output_type": "stream",
     "text": [
      "Data: reviews_summary.csv\n",
      "<class 'pandas.core.frame.DataFrame'>\n",
      "RangeIndex: 848725 entries, 0 to 848724\n",
      "Data columns (total 2 columns):\n",
      " #   Column      Non-Null Count   Dtype \n",
      "---  ------      --------------   ----- \n",
      " 0   listing_id  848725 non-null  int64 \n",
      " 1   date        848725 non-null  object\n",
      "dtypes: int64(1), object(1)\n",
      "memory usage: 13.0+ MB\n"
     ]
    }
   ],
   "source": [
    "df = pd.read_csv(data_path + \"reviews_summary.csv\") \n",
    "print(\"Data: reviews_summary.csv\")\n",
    "df.info()"
   ]
  },
  {
   "cell_type": "markdown",
   "metadata": {},
   "source": [
    "## 2. Data Cleaning, Management, and EDA"
   ]
  },
  {
   "cell_type": "markdown",
   "metadata": {},
   "source": [
    "### 2-1. Data Cleaning & Management"
   ]
  },
  {
   "cell_type": "code",
   "execution_count": 10,
   "metadata": {},
   "outputs": [
    {
     "name": "stdout",
     "output_type": "stream",
     "text": [
      "769559\n"
     ]
    }
   ],
   "source": [
    "df = pd.read_csv(data_path + \"reviews.csv\") \n",
    "comments = df[\"comments\"]\n",
    "eng_count = 0\n",
    "for c in comments:\n",
    "    if type(c) is float: continue\n",
    "    if (\"<br>\" in c): c.replace(\"<br>\", \"\")\n",
    "    try:\n",
    "        c.encode('utf-8')\n",
    "        lang = Detector(c, quiet=True)\n",
    "        if (lang.language.name == \"English\"): eng_count += 1\n",
    "    except: continue \n",
    "print (eng_count)"
   ]
  },
  {
   "cell_type": "markdown",
   "metadata": {},
   "source": [
    "### 2-2. EDA"
   ]
  },
  {
   "cell_type": "markdown",
   "metadata": {},
   "source": [
    "#### 2-2-1. Non-Graphical EDA"
   ]
  },
  {
   "cell_type": "code",
   "execution_count": 2,
   "metadata": {},
   "outputs": [
    {
     "data": {
      "text/plain": [
       "count    27627.000000\n",
       "mean         4.578315\n",
       "std          0.854467\n",
       "min          0.000000\n",
       "25%          4.570000\n",
       "50%          4.820000\n",
       "75%          5.000000\n",
       "max          5.000000\n",
       "Name: review_scores_rating, dtype: float64"
      ]
     },
     "execution_count": 2,
     "metadata": {},
     "output_type": "execute_result"
    }
   ],
   "source": [
    "df = pd.read_csv(data_path + \"listings.csv\") \n",
    "desc = df[\"review_scores_rating\"].describe() \n",
    "desc"
   ]
  },
  {
   "cell_type": "markdown",
   "metadata": {},
   "source": [
    "#### 2-2-2. Graphical EDA"
   ]
  },
  {
   "cell_type": "code",
   "execution_count": 3,
   "metadata": {},
   "outputs": [
    {
     "data": {
      "image/png": "[encoded data removed]",
      "text/plain": [
       "<Figure size 432x288 with 1 Axes>"
      ]
     },
     "metadata": {
      "needs_background": "light"
     },
     "output_type": "display_data"
    }
   ],
   "source": [
    "df = pd.read_csv(data_path + \"listings.csv\")\n",
    "plt.hist(df[\"review_scores_rating\"])\n",
    "plt.title(\"Histogram of Distribution of Reviews In NYC\")\n",
    "plt.xlabel(\"Reviews (0.0 - 5.0)\")\n",
    "plt.ylabel(\"Number of Reviews\")\n",
    "plt.tight_layout()\n",
    "plt.show()"
   ]
  },
  {
   "cell_type": "code",
   "execution_count": 4,
   "metadata": {},
   "outputs": [
    {
     "data": {
      "image/png": "[encoded data removed]",
      "text/plain": [
       "<Figure size 432x288 with 1 Axes>"
      ]
     },
     "metadata": {
      "needs_background": "light"
     },
     "output_type": "display_data"
    }
   ],
   "source": [
    "county = df[\"neighbourhood_group_cleansed\"].unique() \n",
    "avg_review = []\n",
    "for c in county:\n",
    "    avg = ((df[df[\"neighbourhood_group_cleansed\"] == c])[\"number_of_reviews\"]).mean()\n",
    "    avg_review.append(avg)\n",
    "plt.bar(county, avg_review)\n",
    "plt.title(\"Bar Plot of Average Number of Reviews Per County in NYC\")\n",
    "plt.xlabel(\"County\")\n",
    "plt.ylabel(\"Average Number of Reviews\")\n",
    "plt.tight_layout()\n",
    "plt.show()"
   ]
  },
  {
   "cell_type": "code",
   "execution_count": 5,
   "metadata": {},
   "outputs": [
    {
     "name": "stderr",
     "output_type": "stream",
     "text": [
      "/var/folders/k3/cs9cbmpj39565kz5_701s7c40000gn/T/ipykernel_4955/446482802.py:2: FutureWarning: The default value of regex will change from True to False in a future version. In addition, single character regular expressions will *not* be treated as literal strings when regex=True.\n",
      "  df['price'] = df[\"price\"].str.replace('$', '')\n"
     ]
    },
    {
     "data": {
      "image/png": "[encoded data removed]",
      "text/plain": [
       "<Figure size 432x288 with 2 Axes>"
      ]
     },
     "metadata": {
      "needs_background": "light"
     },
     "output_type": "display_data"
    }
   ],
   "source": [
    "df = pd.read_csv(data_path + \"listings.csv\") \n",
    "df['price'] = df[\"price\"].str.replace('$', '')\n",
    "df['price'] = df[\"price\"].str.replace(',', '')\n",
    "df[\"price\"] = pd.to_numeric(df[\"price\"])\n",
    "scatter_df = df[['price', 'review_scores_rating']]\n",
    "drop_na = scatter_df.dropna()\n",
    "plt.scatter(drop_na[\"review_scores_rating\"], drop_na[\"price\"], c=drop_na['price'], cmap='plasma')\n",
    "plt.title(\"Scatter Plot of Reviews and Price\")\n",
    "plt.xlabel(\"Review Ratings (0.0-5.0)\") \n",
    "plt.ylabel(\"Price (USD)\")\n",
    "clb = plt.colorbar() \n",
    "clb.ax.set_title('Price')\n",
    "plt.show()"
   ]
  }
 ],
 "metadata": {
  "interpreter": {
   "hash": "2566dbac0aa093314e9f8f7f9fcadd6dcdf203d908b5f0312082650ddfd90ecb"
  },
  "kernelspec": {
   "display_name": "Python 3.9.7 64-bit ('cs396': conda)",
   "language": "python",
   "name": "python3"
  },
  "language_info": {
   "codemirror_mode": {
    "name": "ipython",
    "version": 3
   },
   "file_extension": ".py",
   "mimetype": "text/x-python",
   "name": "python",
   "nbconvert_exporter": "python",
   "pygments_lexer": "ipython3",
   "version": "3.9.7"
  },
  "orig_nbformat": 4
 },
 "nbformat": 4,
 "nbformat_minor": 2
}
